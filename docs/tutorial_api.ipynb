{
 "cells": [
  {
   "cell_type": "markdown",
   "metadata": {
    "collapsed": true,
    "pycharm": {
     "name": "#%% md\n"
    }
   },
   "source": [
    "# Demonstration of the Application Programming Interface (API) of SLAMpy\n",
    "## Setting up a Scenario\n",
    "\n",
    "Initialise a Scenario by providing a name (to identify it in the output geodatabase), a region (a feature class providing the geographical location to work on), a nutrient (either N or P, for nitrogen or phosphorus, respectively), the sort field in the region (which will be the level of granularity at which outputs will be produced). Optionally, a selection as an SQL query can be provided to work on a subspace in the region, and an overwrite option also exists (default value is True) to allow ArcGIS to overwrite existing feature classes in the output geodatabase (it can be turned off by setting it to False)."
   ]
  },
  {
   "cell_type": "code",
   "execution_count": 1,
   "metadata": {
    "pycharm": {
     "name": "#%%\n"
    }
   },
   "outputs": [],
   "source": [
    "import SLAMpy\n",
    "\n",
    "# define the location of the input geodatabase, input folder, and output geodatabase\n",
    "in_gdb = '~/SLAMpy/SLAMpy/in/input.gdb'\n",
    "in_fld = '~/SLAMpy/SLAMpy/in'\n",
    "out_gdb = '~/SLAMpy/SLAMpy/out/output.gdb'\n",
    "\n",
    "# initialise a Scenario (version 3)\n",
    "scenario = SLAMpy.ScenarioV3(\n",
    "    name='my_scenario',\n",
    "    nutrient='N',  # N or P\n",
    "    region=in_gdb + '/_MyRegion',  # location of the feature class to use\n",
    "    sort_field='EU_CD',  # field name in region feature class used to determine output spatial granularity\n",
    "    selection=None,  # could use an SQL query here\n",
    "    overwrite=True  # whether overwriting files in the geodatabase is permitted\n",
    ")"
   ]
  },
  {
   "cell_type": "markdown",
   "metadata": {},
   "source": [
    "## Running a Scenario from scratch\n",
    "\n",
    "If a Scenario is run from scratch, the location of the input datasets for the given version of the Scenario (version 3 here) must be provided."
   ]
  },
  {
   "cell_type": "code",
   "execution_count": 2,
   "metadata": {
    "pycharm": {
     "name": "#%%\n"
    },
    "scrolled": true
   },
   "outputs": [
    {
     "data": {
      "text/plain": [
       "> Calculating N load for Arable.\n",
       "> Calculating N load for Pasture.\n",
       "> Calculating N load for Atmospheric Deposition.\n",
       "> Calculating N load for Forestry.\n",
       "> Calculating N load for Peat.\n",
       "> Calculating N load for Urban.\n",
       "> Calculating N load for IPC Industries.\n",
       "> Calculating N load for Section 4 Industries.\n",
       "> Calculating N load for Septic Tank Systems.\n",
       "> Calculating N load for Wastewater Treatment Plants.\n",
       "> Calculating summary loads for all sources of N.\n",
       "> Creating output feature class to store load apportionment for N.\n",
       "> Gathering all sources of N in output feature class.\n",
       "> Calculating N loads totals and sub-totals.\n"
      ]
     },
     "execution_count": 2,
     "metadata": {},
     "output_type": "execute_result"
    }
   ],
   "source": [
    "scenario.run(\n",
    "    out_gdb=out_gdb,\n",
    "    # inputs for agriculture tool\n",
    "    in_arable=in_gdb + '/PathwaysCCT_IRL_Arable_LPIS',\n",
    "    in_pasture=in_gdb + '/PathwaysCCT_IRL_Pasture_LPIS',\n",
    "    # inputs for atmospheric deposition tool\n",
    "    in_atm_depo=in_gdb + '/AtmosDep_Lakes',\n",
    "    # inputs for forestry, peat, diffuse urban tools\n",
    "    in_land_cover=in_gdb + '/clc12_IE',\n",
    "    in_lc_field='CODE_12',\n",
    "    in_factors=in_fld + '/LAM_Factors.xlsx' + '/Corine_N$',\n",
    "    # inputs for industrial discharges tool\n",
    "    in_ipc=in_gdb + '/IPPC_Loads_LAM2',\n",
    "    in_sect4=in_gdb + '/Section4Discharges_D07_IsMain',\n",
    "    # inputs for domestic septic tank discharges tool\n",
    "    in_dwts=in_gdb + '/SepticTankSystems_LoadModel17',\n",
    "    # inputs for municipal wastewater discharges tool\n",
    "    in_agglo=in_gdb + '/SLAM_Agglom15_March17_IsMain',\n",
    "    in_treated_field='PointT{}',\n",
    "    in_overflow_field='T{}_SWO'\n",
    ")"
   ]
  },
  {
   "cell_type": "markdown",
   "metadata": {},
   "source": [
    "## Reloading a Scenario from a previous run\n",
    "\n",
    "If a Scenario was already run, its output feature classes are available in the output geodatabase. By providing the location of the existing output feature classes, one can reach the same outcome as if the Scenario was run from scratch (as described above). Note, the same version of the Scenario that was used to run the Scenario in the first place must be used to reload the Scenario."
   ]
  },
  {
   "cell_type": "code",
   "execution_count": 3,
   "metadata": {
    "pycharm": {
     "name": "#%%\n"
    },
    "scrolled": true
   },
   "outputs": [
    {
     "data": {
      "text/plain": [
       "> Reusing existing data for arable and pasture.\n",
       "> Reusing existing data for atmospheric deposition.\n",
       "> Reusing existing data for forestry.\n",
       "> Reusing existing data for peatlands.\n",
       "> Reusing existing data for diffuse urban.\n",
       "> Reusing existing data for IPC and Section 4 industries.\n",
       "> Reusing existing data for septic tanks.\n",
       "> Reusing existing data for WWTPs.\n",
       "> Calculating summary loads for all sources of N.\n",
       "> Creating output feature class to store load apportionment for N.\n",
       "> Gathering all sources of N in output feature class.\n",
       "> Calculating N loads totals and sub-totals.\n"
      ]
     },
     "execution_count": 3,
     "metadata": {},
     "output_type": "execute_result"
    }
   ],
   "source": [
    "scenario.run(\n",
    "    out_gdb=out_gdb,\n",
    "    # existing outputs from agriculture tool\n",
    "    ex_arable=out_gdb + '/scenario_N_Arable',\n",
    "    ex_pasture=out_gdb +'/scenario_N_Pasture',\n",
    "    # existing output from atmospheric deposition tool\n",
    "    ex_atm_depo=out_gdb + '/scenario_N_AtmDepo',\n",
    "    # existing output from forestry tool\n",
    "    ex_forest=out_gdb + '/scenario_N_Forestry',\n",
    "    # existing output from peat tool\n",
    "    ex_peat=out_gdb + '/scenario_N_Peat',\n",
    "    # existing output from diffuse urban tool\n",
    "    ex_urban=out_gdb + '/scenario_N_Urban',\n",
    "    # existing output from industrial discharges tool\n",
    "    ex_ipc=out_gdb + '/scenario_N_IndustryIPC',\n",
    "    ex_sect4=out_gdb + '/scenario_N_IndustrySect4',\n",
    "    # existing output from domestic septic tank discharges tool\n",
    "    ex_dwts=out_gdb + '/scenario_N_SepticTanks',\n",
    "    # existing output from municipal wastewater discharges tool\n",
    "    ex_agglo=out_gdb + '/scenario_N_Wastewater'\n",
    ")"
   ]
  },
  {
   "cell_type": "markdown",
   "metadata": {},
   "source": [
    "## Running only certain sources of a Scenario from scratch, reloading the others\n",
    "\n",
    "If only some sources need to be re-run, it is possible to mix-and-match newly run sources, with existing sources for the others. Note, some sources are generated by the same geoprocessing tool (e.g. agriculture tool for pasture and arable, industry tool for IPC and Sect4), which implies that these related sources must be either both used from existing outputs or both freshly run. If any source related to other sources (i.e produced through the same geoprocessing tool) is not provided from an existing output, SLAMpy will automatically re-run all related sources by calling the relevant geoprocessing tool."
   ]
  },
  {
   "cell_type": "code",
   "execution_count": 4,
   "metadata": {
    "pycharm": {
     "name": "#%%\n"
    },
    "scrolled": true
   },
   "outputs": [
    {
     "data": {
      "text/plain": [
       "> Calculating N load for Arable.\n",
       "> Calculating N load for Pasture.\n",
       "> Reusing existing data for atmospheric deposition.\n",
       "> Reusing existing data for forestry.\n",
       "> Reusing existing data for peatlands.\n",
       "> Reusing existing data for diffuse urban.\n",
       "> Reusing existing data for IPC and Section 4 industries.\n",
       "> Reusing existing data for septic tanks.\n",
       "> Reusing existing data for WWTPs.\n",
       "> Calculating summary loads for all sources of N.\n",
       "> Creating output feature class to store load apportionment for N.\n",
       "> Gathering all sources of N in output feature class.\n",
       "> Calculating N loads totals and sub-totals.\n"
      ]
     },
     "execution_count": 4,
     "metadata": {},
     "output_type": "execute_result"
    }
   ],
   "source": [
    "scenario.run(\n",
    "    out_gdb=out_gdb,\n",
    "    # inputs for agriculture tool\n",
    "    in_arable=in_gdb + '/PathwaysCCT_IRL_Arable_LPIS',\n",
    "    in_pasture=in_gdb + '/PathwaysCCT_IRL_Pasture_LPIS',\n",
    "    # existing output from atmospheric deposition tool\n",
    "    ex_atm_depo=out_gdb + '/scenario_N_AtmDepo',\n",
    "    # existing output from forestry tool\n",
    "    ex_forest=out_gdb + '/scenario_N_Forestry',\n",
    "    # existing output from peat tool\n",
    "    ex_peat=out_gdb + '/scenario_N_Peat',\n",
    "    # existing output from diffuse urban tool\n",
    "    ex_urban=out_gdb + '/scenario_N_Urban',\n",
    "    # existing output from industrial discharges tool\n",
    "    ex_ipc=out_gdb + '/scenario_N_IndustryIPC',\n",
    "    ex_sect4=out_gdb + '/scenario_N_IndustrySect4',\n",
    "    # existing output from domestic septic tank discharges tool\n",
    "    ex_dwts=out_gdb + '/scenario_N_SepticTanks',\n",
    "    # existing output from municipal wastewater discharges tool\n",
    "    ex_agglo=out_gdb + '/scenario_N_Wastewater'\n",
    ")"
   ]
  },
  {
   "cell_type": "markdown",
   "metadata": {},
   "source": [
    "## Spatial subset of a Scenario\n",
    "\n",
    "If an existing Scenario is composed of several spatial units (i.e. basins, sub-basins, etc.), it is possible to obtain a subset Scenario from it without requiring any ArcMap geoprocessing tool, just use the relevant constructor method, as follows:"
   ]
  },
  {
   "cell_type": "code",
   "execution_count": 5,
   "metadata": {
    "pycharm": {
     "name": "#%%\n"
    }
   },
   "outputs": [],
   "source": [
    "subset = SLAMpy.Scenario.from_subset_in_existing_scenario(\n",
    "    existing_scenario=scenario,  # Scenario object from which to draw a subset\n",
    "    basin_subset_list=[\"IE_EA_09B030100\", \"IE_EA_09C040100\"],  # list of basins to extract from existing scenario\n",
    "    new_name='subset'  # name for the new scenario\n",
    ")"
   ]
  },
  {
   "cell_type": "markdown",
   "metadata": {},
   "source": [
    "Note, the subset is also a Scenario object in its own right, so all functionalities described below are applicable to it as well."
   ]
  },
  {
   "cell_type": "markdown",
   "metadata": {},
   "source": [
    "## Saving a Scenario in a CSV file\n",
    "\n",
    "The outputs of a Scenario can be saved into a CSV file. This file can be used to store the results of the run of Scenario for reloading it in the future, or for doing some postprocessing or plotting outside of Python. The name of the file written is standardised, if it is to be reloaded into Python, the file should not be renamed."
   ]
  },
  {
   "cell_type": "code",
   "execution_count": 6,
   "metadata": {
    "pycharm": {
     "name": "#%%\n"
    }
   },
   "outputs": [],
   "source": [
    "scenario.write_to_csv(output_location='.')  # this will save the scneario in the current working directory"
   ]
  },
  {
   "cell_type": "markdown",
   "metadata": {},
   "source": [
    "## Reloading a Scenario from a CSV file\n",
    "\n",
    "If the Scenario was saved as a CSV file following the procedure described above, and if the file was not renamed, it can be easily used to re-generate a Scenario object to be used in Python."
   ]
  },
  {
   "cell_type": "code",
   "execution_count": 7,
   "metadata": {
    "pycharm": {
     "name": "#%%\n"
    }
   },
   "outputs": [],
   "source": [
    "scenario = SLAMpy.Scenario.read_from_csv(file_path='./scenario.N.csv')"
   ]
  },
  {
   "cell_type": "markdown",
   "metadata": {},
   "source": [
    "## Plotting a given Scenario\n",
    "\n",
    "If SLAMpy is used in a Jupyter notebook, one needs to make sure the figures are plotted in the notebook, by using the following command. If SLAMpy is not used in a Jupyter notebook, this command is to be ignored."
   ]
  },
  {
   "cell_type": "code",
   "execution_count": 8,
   "metadata": {
    "pycharm": {
     "name": "#%%\n"
    }
   },
   "outputs": [],
   "source": [
    "%matplotlib inline"
   ]
  },
  {
   "cell_type": "markdown",
   "metadata": {},
   "source": [
    "Use the relevant Scenario method to plot the total loads as a donut plot."
   ]
  },
  {
   "cell_type": "code",
   "execution_count": 9,
   "metadata": {
    "pycharm": {
     "name": "#%%\n"
    }
   },
   "outputs": [
    {
     "data": {
      "image/png": "[encoded data removed]",
      "text/plain": "<Figure size 432x288 with 1 Axes>"
     },
     "metadata": {},
     "output_type": "display_data"
    }
   ],
   "source": [
    "scenario.plot_as_donut(\n",
    "    file_name='scenario',  # this will save the figure as 'scenario.pdf'\n",
    "    output_location='.',  # this will save the figure in this directory (current working directory here)\n",
    "    file_format='pdf',  # this can be 'png', 'pdf', 'jpg', 'svg'\n",
    "    title_on=True,  # whether the figure should have a title\n",
    "    custom_title='My custom title for Scenario figure',  # title to display at the top of the figure\n",
    "    label_display_threshold_percent=1  # threshold in percent below which a source is not directly tagged on plot\n",
    ")\n"
   ]
  },
  {
   "cell_type": "markdown",
   "metadata": {},
   "source": [
    "## Plotting several Scenarios side-by-side\n",
    "\n",
    "First, let's create a few other 'dummy' Scenarios from the Scenario used above.\n"
   ]
  },
  {
   "cell_type": "code",
   "execution_count": 10,
   "metadata": {
    "pycharm": {
     "name": "#%%\n"
    }
   },
   "outputs": [],
   "source": [
    "scenario2 = SLAMpy.Scenario(name='Scenario2', nutrient='N')\n",
    "scenario2.loads = scenario.loads * 0.8\n",
    "scenario2.areas = scenario.areas\n",
    "\n",
    "scenario3 = SLAMpy.Scenario(name='Scenario3', nutrient='N')\n",
    "scenario3.loads = scenario.loads * 1.4\n",
    "scenario3.areas = scenario.areas"
   ]
  },
  {
   "cell_type": "markdown",
   "metadata": {},
   "source": [
    "Now, let's put them in a ScenarioList, which is another SLAMpy object that allows to gather Scenario objects in a common list. Note, all Scenarios contained in a given ScenarioList must be considering the same nutrient exclusively (either N or P)."
   ]
  },
  {
   "cell_type": "code",
   "execution_count": 11,
   "metadata": {
    "pycharm": {
     "name": "#%%\n"
    }
   },
   "outputs": [],
   "source": [
    "scenario_list = SLAMpy.ScenarioList([scenario, scenario2, scenario3])"
   ]
  },
  {
   "cell_type": "markdown",
   "metadata": {},
   "source": [
    "Finally, use the relevant ScenarioList method to plot them as vertical stacked bars."
   ]
  },
  {
   "cell_type": "code",
   "execution_count": 12,
   "metadata": {
    "pycharm": {
     "name": "#%%\n"
    }
   },
   "outputs": [
    {
     "data": {
      "text/plain": "<Figure size 320x288 with 1 Axes>",
      "image/png": "[encoded data removed]"
     },
     "metadata": {
      "needs_background": "light"
     },
     "output_type": "display_data"
    }
   ],
   "source": [
    "scenario_list.plot_as_stacked_bars(\n",
    "    file_name='compare_scenarios',  # this will save the figure as 'compare_scenarios.png'\n",
    "    output_location='.',  # this will save the figure in this directory (current working directory here)\n",
    "    file_format='png',  # this can be 'png', 'pdf', 'jpg', 'svg'\n",
    "    title_on=True,  # whether the figure should have a title\n",
    "    custom_title='My custom title for ScenarioList figure',  # title to display at the top of the figure\n",
    "    scenario_label_rotation=90, # anti-clockwise rotation in degrees for the x-axis labels\n",
    "    width=0.1  # width of the stacked bars in points\n",
    ")"
   ]
  }
 ],
 "metadata": {
  "kernelspec": {
   "display_name": "Python 3",
   "language": "python",
   "name": "python3"
  },
  "language_info": {
   "codemirror_mode": {
    "name": "ipython",
    "version": 3
   },
   "file_extension": ".py",
   "mimetype": "text/x-python",
   "name": "python",
   "nbconvert_exporter": "python",
   "pygments_lexer": "ipython3",
   "version": "3.7.4"
  }
 },
 "nbformat": 4,
 "nbformat_minor": 1
}